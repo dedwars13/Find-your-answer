{
    "cells": [
        {
            "cell_type": "code",
            "execution_count": 1,
            "metadata": {},
            "outputs": [
                {
                    "data": {
                        "text/html": "<div>\n<style scoped>\n    .dataframe tbody tr th:only-of-type {\n        vertical-align: middle;\n    }\n\n    .dataframe tbody tr th {\n        vertical-align: top;\n    }\n\n    .dataframe thead th {\n        text-align: right;\n    }\n</style>\n<table border=\"1\" class=\"dataframe\">\n  <thead>\n    <tr style=\"text-align: right;\">\n      <th></th>\n      <th>DEPARTAMENTO</th>\n      <th>Recuento de CLIENTE</th>\n    </tr>\n  </thead>\n  <tbody>\n    <tr>\n      <th>0</th>\n      <td>BOGOT\u00c1, D.C.</td>\n      <td>1180</td>\n    </tr>\n    <tr>\n      <th>1</th>\n      <td>ANTIOQUIA</td>\n      <td>668</td>\n    </tr>\n    <tr>\n      <th>2</th>\n      <td>CUNDINAMARCA</td>\n      <td>287</td>\n    </tr>\n    <tr>\n      <th>3</th>\n      <td>VALLE DEL CAUCA</td>\n      <td>174</td>\n    </tr>\n    <tr>\n      <th>4</th>\n      <td>ATL\u00c1NTICO</td>\n      <td>104</td>\n    </tr>\n  </tbody>\n</table>\n</div>",
                        "text/plain": "      DEPARTAMENTO  Recuento de CLIENTE\n0     BOGOT\u00c1, D.C.                 1180\n1        ANTIOQUIA                  668\n2     CUNDINAMARCA                  287\n3  VALLE DEL CAUCA                  174\n4        ATL\u00c1NTICO                  104"
                    },
                    "execution_count": 1,
                    "metadata": {},
                    "output_type": "execute_result"
                }
            ],
            "source": "# The code was removed by Watson Studio for sharing."
        },
        {
            "cell_type": "code",
            "execution_count": null,
            "metadata": {},
            "outputs": [],
            "source": ""
        }
    ],
    "metadata": {
        "kernelspec": {
            "display_name": "Python 3.6",
            "language": "python",
            "name": "python3"
        },
        "language_info": {
            "codemirror_mode": {
                "name": "ipython",
                "version": 3
            },
            "file_extension": ".py",
            "mimetype": "text/x-python",
            "name": "python",
            "nbconvert_exporter": "python",
            "pygments_lexer": "ipython3",
            "version": "3.6.9"
        }
    },
    "nbformat": 4,
    "nbformat_minor": 1
}